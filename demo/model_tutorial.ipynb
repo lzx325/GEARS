{
 "cells": [
  {
   "cell_type": "code",
   "execution_count": 1,
   "metadata": {},
   "outputs": [],
   "source": [
    "import sys\n",
    "sys.path.append('../')\n",
    "\n",
    "import pickle as pkl\n",
    "\n",
    "import numpy as np\n",
    "import anndata as ad\n",
    "import pandas as pd\n",
    "import torch\n",
    "from gears import PertData, GEARS\n",
    "from gears.utils import parse_single_pert,parse_combo_pert\n",
    "%load_ext autoreload\n",
    "%load_ext jupyter_spaces\n",
    "%autoreload 2"
   ]
  },
  {
   "cell_type": "markdown",
   "metadata": {},
   "source": [
    "Load data. We use norman as an example."
   ]
  },
  {
   "cell_type": "code",
   "execution_count": 55,
   "metadata": {},
   "outputs": [],
   "source": [
    "%%space preprocess\n",
    "adata_bak=ad.read_h5ad(\"norman_umi_go/perturb_processed_bak.h5ad\")\n",
    "pertmap=pd.read_csv(\"pertmap.tsv\",sep=\"\\t\",header=None)\n",
    "\n",
    "pertmap_dict=dict()\n",
    "for index,row in pertmap.iterrows():\n",
    "    for k in row[1].split(','):\n",
    "        pertmap_dict[k]=row[0]\n",
    "        \n",
    "def rename_conditions(x):\n",
    "    x_s=x.split('+')\n",
    "    if len(x_s)==1:\n",
    "        return x_s[0]\n",
    "    elif len(x_s)==2:\n",
    "        if 'ctrl' in x_s:\n",
    "            return 'ctrl+'+parse_single_pert(x)\n",
    "        else:\n",
    "            return \"+\".join(parse_combo_pert(x))\n",
    "    \n",
    "adata_bak.obs[\"condition\"]=adata_bak.obs[\"condition\"].map(rename_conditions)\n",
    "if False:\n",
    "    adata_bak.write(\"norman_umi_go/perturb_processed.h5ad\")"
   ]
  },
  {
   "cell_type": "code",
   "execution_count": 43,
   "metadata": {},
   "outputs": [
    {
     "name": "stderr",
     "output_type": "stream",
     "text": [
      "Found local copy ./gene2go_all.pkl ...\n"
     ]
    }
   ],
   "source": [
    "data_path = './'\n",
    "data_name = 'norman_umi_go'\n",
    "model_name = 'gears_misc_umi_no_test'\n",
    "\n",
    "pert_data = PertData(data_path)"
   ]
  },
  {
   "cell_type": "code",
   "execution_count": 5,
   "metadata": {},
   "outputs": [
    {
     "name": "stderr",
     "output_type": "stream",
     "text": [
      "Found local copy ./essential_all_data_pert_genes.pkl ...\n",
      "These perturbations are not in the GO graph and their perturbation can thus not be predicted\n",
      "['ctrl+RHOXF2BB' 'LYL1+IER5L' 'ctrl+IER5L' 'ctrl+KIAA1804'\n",
      " 'RHOXF2BB+ZBTB25' 'RHOXF2BB+SET']\n",
      "Local copy of pyg dataset is detected. Loading...\n",
      "Done!\n"
     ]
    }
   ],
   "source": [
    "pert_data.load(data_path = data_path + data_name)"
   ]
  },
  {
   "cell_type": "code",
   "execution_count": 11,
   "metadata": {},
   "outputs": [
    {
     "name": "stdout",
     "output_type": "stream",
     "text": [
      "all conditions (including ctrl) 231\n",
      "single_conditions 102\n",
      "combo_conditions 128\n",
      "train_conditions 164 train_single_conditions 102 train_combo_conditions 62\n",
      "val_conditions 66 val_combo_conditions 66\n",
      "all conditions (including ctrl) 231\n",
      "single_conditions 102\n",
      "combo_conditions 128\n",
      "train_conditions 131 train_single_conditions 102 train_combo_conditions 29\n",
      "val_conditions 99 val_combo_conditions 99\n",
      "all conditions (including ctrl) 231\n",
      "single_conditions 102\n",
      "combo_conditions 128\n",
      "train_conditions 102 train_single_conditions 102 train_combo_conditions 0\n",
      "val_conditions 128 val_combo_conditions 128\n"
     ]
    }
   ],
   "source": [
    "def map_fn(condition):\n",
    "    c_split=condition.split('+')\n",
    "    if len(c_split)==1:\n",
    "        return 'ctrl'\n",
    "    elif len(c_split)==2:\n",
    "        cond1 = condition.split('+')[0]\n",
    "        cond2 = condition.split('+')[1]\n",
    "        num_ctrl = (cond1 == 'ctrl') + (cond2 == 'ctrl')\n",
    "        if num_ctrl==1:\n",
    "            return 'one'\n",
    "        elif num_ctrl==0:\n",
    "            return 'two'\n",
    "        \n",
    "def make_custom_split(conditions,n_combo_test):\n",
    "    np.random.seed(0)\n",
    "    assert 'ctrl' in conditions\n",
    "    \n",
    "    single_conditions=[cond for cond in conditions if map_fn(cond)=='one']\n",
    "    combo_conditions=[cond for cond in conditions if map_fn(cond)=='two']\n",
    "    \n",
    "    print(\"all conditions (including ctrl)\",len(conditions))\n",
    "    print(\"single_conditions\",len(single_conditions))\n",
    "    print(\"combo_conditions\",len(combo_conditions))\n",
    "    assert n_combo_test<=len(combo_conditions)\n",
    "    train_conditions=list()\n",
    "    val_conditions=list()\n",
    "    \n",
    "    train_conditions+=single_conditions\n",
    "    val_combo_conditions=list(np.random.choice(combo_conditions,n_combo,replace=False))\n",
    "    train_combo_conditions=[cond for cond in combo_conditions if cond not in val_combo_conditions]\n",
    "    \n",
    "    train_conditions+=train_combo_conditions\n",
    "    val_conditions+=val_combo_conditions\n",
    "    print(\"train_conditions\",len(train_conditions),\"train_single_conditions\",len(train_conditions)-len(train_combo_conditions),\"train_combo_conditions\",len(train_combo_conditions))\n",
    "    print(\"val_conditions\",len(val_conditions),\"val_combo_conditions\",len(val_combo_conditions))\n",
    "    \n",
    "    single_genes=[parse_single_pert(single_cond) for single_cond in single_conditions]\n",
    "    combo_genes=sum((list(parse_combo_pert(combo_pert)) for combo_pert in combo_conditions),start=list())\n",
    "    assert all(v in single_genes for v in combo_genes)\n",
    "    return {\n",
    "        'train':train_conditions,\n",
    "        'val':val_conditions,\n",
    "        'test':val_conditions\n",
    "    }\n",
    "for n_combo in [66,99,128]:\n",
    "    custom_split = make_custom_split(pert_data.adata.obs.condition.unique().tolist(),n_combo)\n",
    "    custom_split_path = \"./norman_umi_go/splits/custom_split_%d.pkl\"%(n_combo)\n",
    "    with open(custom_split_path,'wb') as f:\n",
    "        pkl.dump(custom_split,f)"
   ]
  },
  {
   "cell_type": "code",
   "execution_count": 10,
   "metadata": {},
   "outputs": [
    {
     "name": "stderr",
     "output_type": "stream",
     "text": [
      "Local copy of split is detected. Loading...\n",
      "Done!\n"
     ]
    }
   ],
   "source": [
    "n_combo=66\n",
    "pert_data.prepare_split(split = 'combo_seen2', seed = 1, split_path = \"norman_umi_go/splits/custom_split_%d.pkl\"%(n_combo))"
   ]
  },
  {
   "cell_type": "code",
   "execution_count": 11,
   "metadata": {},
   "outputs": [
    {
     "name": "stderr",
     "output_type": "stream",
     "text": [
      "Creating dataloaders....\n",
      "Done!\n"
     ]
    }
   ],
   "source": [
    "pert_data.get_dataloader(batch_size = 32, test_batch_size = 128)"
   ]
  },
  {
   "cell_type": "markdown",
   "metadata": {},
   "source": [
    "Create a model object; if you use [wandb](https://wandb.ai), you can easily track model training and evaluation by setting `weight_bias_track` to true, and specify the `proj_name` and `exp_name` that you like."
   ]
  },
  {
   "cell_type": "code",
   "execution_count": 12,
   "metadata": {},
   "outputs": [],
   "source": [
    "data=next(iter(pert_data.dataloader[\"train_loader\"]))"
   ]
  },
  {
   "cell_type": "code",
   "execution_count": 11,
   "metadata": {},
   "outputs": [
    {
     "data": {
      "text/plain": [
       "torch.Size([161728, 1])"
      ]
     },
     "execution_count": 11,
     "metadata": {},
     "output_type": "execute_result"
    }
   ],
   "source": [
    "data.x.shape"
   ]
  },
  {
   "cell_type": "code",
   "execution_count": 30,
   "metadata": {},
   "outputs": [
    {
     "data": {
      "text/plain": [
       "torch.Size([32, 1])"
      ]
     },
     "execution_count": 30,
     "metadata": {},
     "output_type": "execute_result"
    }
   ],
   "source": [
    "torch.split(data.x,32)[0].shape"
   ]
  },
  {
   "cell_type": "code",
   "execution_count": 15,
   "metadata": {},
   "outputs": [
    {
     "data": {
      "text/plain": [
       "[array([ 100,  832, 1524, 1624, 1708, 1729, 1873, 2109, 2324, 2555, 2637,\n",
       "        3178, 3594, 4058, 4067, 4166, 4409, 4531, 4736, 4898]),\n",
       " array([  30,  279,  445,  930, 1899, 2137, 2492, 2653, 2789, 3095, 3211,\n",
       "        3366, 3392, 3721, 4224, 4445, 4465, 4613, 4737, 4869]),\n",
       " array([ 392,  521,  646,  746,  771, 1288, 1322, 1323, 1694, 2362, 2555,\n",
       "        2651, 2653, 2738, 2770, 2785, 3446, 3877, 4457, 4737]),\n",
       " array([ 185,  342,  350,  432,  746, 1702, 2492, 2602, 2738, 2811, 3182,\n",
       "        3208, 3346, 3367, 3830, 4460, 4661, 4859, 4879, 5031]),\n",
       " array([ 585,  815, 1473, 1502, 1662, 1798, 2442, 2738, 2783, 3369, 3538,\n",
       "        3721, 4022, 4038, 4315, 4447, 4588, 4753, 4970, 4996]),\n",
       " array([  42,  148,  332, 1026, 1322, 1323, 1431, 1695, 1696, 1808, 2137,\n",
       "        2731, 2811, 2941, 3802, 3936, 4149, 4460, 4684, 4970]),\n",
       " array([ 185,  342,  350,  432,  746, 1702, 2492, 2602, 2738, 2811, 3182,\n",
       "        3208, 3346, 3367, 3830, 4460, 4661, 4859, 4879, 5031]),\n",
       " array([ 493,  691,  728, 1052, 1097, 1208, 1322, 1323, 1426, 1580, 1708,\n",
       "        1873, 2187, 2253, 2597, 2637, 2726, 3504, 4128, 4409]),\n",
       " array([  42,  178,  865, 1147, 1179, 1515, 1774, 2362, 2539, 2653, 2783,\n",
       "        2785, 2811, 2983, 3073, 3916, 4131, 4136, 4149, 4869]),\n",
       " array([  86,   88,  331,  332,  691,  784, 1899, 2046, 2811, 2941, 3055,\n",
       "        3472, 3633, 3721, 3722, 3723, 4072, 4583, 4737, 4769]),\n",
       " array([ 147,  160,  657,  850, 1082, 2175, 2313, 2505, 2520, 2738, 2785,\n",
       "        2811, 2889, 3388, 3436, 3721, 4072, 4149, 4753, 4779]),\n",
       " array([  42,  148,  332, 1026, 1322, 1323, 1431, 1695, 1696, 1808, 2137,\n",
       "        2731, 2811, 2941, 3802, 3936, 4149, 4460, 4684, 4970]),\n",
       " array([ 421,  841,  853, 1322, 1396, 1791, 1912, 1951, 2175, 2653, 2785,\n",
       "        3436, 3646, 3721, 3866, 4457, 4494, 4628, 4699, 4869]),\n",
       " array([  88,  142,  320,  352,  408,  850,  851, 1322, 1852, 2109, 2431,\n",
       "        2652, 2653, 2811, 2941, 3204, 3211, 3749, 4457, 4737]),\n",
       " array([  88,  148,  262, 1172, 1322, 1323, 1695, 1696, 1791, 1808, 2178,\n",
       "        2537, 2731, 2806, 3392, 4119, 4149, 4668, 4736, 4779]),\n",
       " array([  42,  148,  332, 1026, 1322, 1323, 1431, 1695, 1696, 1808, 2137,\n",
       "        2731, 2811, 2941, 3802, 3936, 4149, 4460, 4684, 4970]),\n",
       " array([  88,  946,  947, 1322, 1323, 1588, 1742, 2175, 2247, 2362, 2553,\n",
       "        2738, 2811, 2983, 2986, 3606, 4573, 4696, 4825, 4925]),\n",
       " array([  88,  332,  420,  691, 1695, 1696, 1702, 1748, 2009, 2137, 2383,\n",
       "        2653, 2852, 2929, 3721, 3783, 4119, 4457, 4925, 4970]),\n",
       " array([  42,  148,  332, 1026, 1322, 1323, 1431, 1695, 1696, 1808, 2137,\n",
       "        2731, 2811, 2941, 3802, 3936, 4149, 4460, 4684, 4970]),\n",
       " array([ 281,  540,  850,  853, 1322, 1323, 1696, 2175, 2403, 2629, 2653,\n",
       "        2783, 2785, 3551, 3721, 3922, 4092, 4469, 4470, 4699]),\n",
       " array([ 195,  427,  691, 1329, 1602, 1798, 2137, 2175, 2653, 2783, 3346,\n",
       "        3681, 3721, 3723, 4442, 4457, 4736, 4869, 4879, 5031]),\n",
       " array([ 540,  746,  853, 1322, 1323, 1791, 2137, 2175, 2259, 2408, 2653,\n",
       "        2738, 2811, 3721, 4437, 4454, 4457, 4699, 4769, 5031]),\n",
       " array([  73,  195,  344,  352,  850, 1409, 1724, 1737, 1798, 2109, 2184,\n",
       "        2190, 2354, 2514, 2659, 2837, 3319, 3657, 3793, 5041]),\n",
       " array([ 147,  310,  850, 1082, 1774, 2175, 2520, 2559, 2738, 2783, 2785,\n",
       "        2811, 2889, 3388, 3436, 3743, 4705, 4779, 4869, 4974]),\n",
       " array([ 131,  691, 1322, 1798, 1964, 2492, 2653, 2785, 2806, 3436, 4168,\n",
       "        4224, 4321, 4457, 4628, 4736, 4779, 4970, 4974, 4991]),\n",
       " array([ 148,  262, 1322, 1323, 1515, 1695, 1696, 1808, 2379, 2602, 2653,\n",
       "        2731, 2941, 3472, 3743, 3842, 4149, 4549, 4684, 4970]),\n",
       " array([  88,   89,  317,  350,  420,  551, 1037, 1515, 1696, 1907, 1985,\n",
       "        2071, 2178, 2383, 2492, 2737, 2811, 3493, 4737, 4775]),\n",
       " array([ 142,  198, 1083, 1507, 1878, 1888, 2554, 2778, 2806, 3204, 3211,\n",
       "        3678, 3792, 3931, 4469, 4645, 4989, 5040, 5045, 5051]),\n",
       " array([ 198,  712, 1032, 2313, 2492, 2779, 2780, 2941, 3090, 3382, 3667,\n",
       "        3825, 4106, 4454, 4573, 4690, 4736, 4737, 4753, 4858]),\n",
       " array([  71,   88,  148,  691, 1097, 1203, 1323, 1695, 1696, 1791, 2009,\n",
       "        2653, 3124, 4354, 4460, 4493, 4710, 4779, 4970, 4997]),\n",
       " array([ 190,  198,  566, 1748, 1798, 2137, 2290, 2653, 2902, 3657, 3721,\n",
       "        3783, 4442, 4457, 4544, 4713, 4769, 4879, 4881, 5031]),\n",
       " array([  88,  332,  420,  691, 1695, 1696, 1702, 1748, 2009, 2137, 2383,\n",
       "        2653, 2852, 2929, 3721, 3783, 4119, 4457, 4925, 4970])]"
      ]
     },
     "execution_count": 15,
     "metadata": {},
     "output_type": "execute_result"
    }
   ],
   "source": [
    "data.de_idx"
   ]
  },
  {
   "cell_type": "code",
   "execution_count": 17,
   "metadata": {},
   "outputs": [
    {
     "data": {
      "text/plain": [
       "['ctrl+BAK1',\n",
       " 'ctrl+TMSB4X',\n",
       " 'ctrl+MEIS1',\n",
       " 'ctrl+MAP2K6',\n",
       " 'ctrl+ARRDC3',\n",
       " 'ctrl+CEBPA',\n",
       " 'ctrl+MAP2K6',\n",
       " 'ctrl+BCL2L11',\n",
       " 'ctrl+HOXB9',\n",
       " 'CEBPE+KLF1',\n",
       " 'ctrl+FOXL2',\n",
       " 'ctrl+CEBPA',\n",
       " 'ctrl+IGDCC3',\n",
       " 'FEV+MAP7D1',\n",
       " 'ctrl+CELF2',\n",
       " 'ctrl+CEBPA',\n",
       " 'ctrl+CSRNP1',\n",
       " 'ctrl+OSR2',\n",
       " 'ctrl+CEBPA',\n",
       " 'ctrl+C19orf26',\n",
       " 'ctrl+PTPN1',\n",
       " 'ctrl+DUSP9',\n",
       " 'ctrl+FOXO4',\n",
       " 'ctrl+C3orf72',\n",
       " 'TBX3+TBX2',\n",
       " 'ctrl+CEBPE',\n",
       " 'PTPN12+OSR2',\n",
       " 'ctrl+MAP7D1',\n",
       " 'ctrl+SLC4A1',\n",
       " 'ctrl+CEBPB',\n",
       " 'ctrl+UBASH3B',\n",
       " 'ctrl+OSR2']"
      ]
     },
     "execution_count": 17,
     "metadata": {},
     "output_type": "execute_result"
    }
   ],
   "source": [
    "data.pert"
   ]
  },
  {
   "cell_type": "code",
   "execution_count": 24,
   "metadata": {},
   "outputs": [
    {
     "data": {
      "text/plain": [
       "(tensor([ 0,  1,  2,  3,  4,  5,  6,  7,  8,  9, 10, 11, 12, 13, 14, 15, 16, 17,\n",
       "         18, 19, 20, 21, 22, 23, 24, 25, 26, 27, 28, 29, 30, 31]),\n",
       " tensor([5054, 5054, 5054, 5054, 5054, 5054, 5054, 5054, 5054, 5054, 5054, 5054,\n",
       "         5054, 5054, 5054, 5054, 5054, 5054, 5054, 5054, 5054, 5054, 5054, 5054,\n",
       "         5054, 5054, 5054, 5054, 5054, 5054, 5054, 5054]))"
      ]
     },
     "execution_count": 24,
     "metadata": {},
     "output_type": "execute_result"
    }
   ],
   "source": [
    "torch.unique(data.batch,return_counts=True)"
   ]
  },
  {
   "cell_type": "code",
   "execution_count": 24,
   "metadata": {},
   "outputs": [
    {
     "data": {
      "text/plain": [
       "5054"
      ]
     },
     "execution_count": 24,
     "metadata": {},
     "output_type": "execute_result"
    }
   ],
   "source": [
    "gears_model.config[\"num_genes\"]"
   ]
  },
  {
   "cell_type": "code",
   "execution_count": 25,
   "metadata": {},
   "outputs": [
    {
     "data": {
      "text/plain": [
       "9853"
      ]
     },
     "execution_count": 25,
     "metadata": {},
     "output_type": "execute_result"
    }
   ],
   "source": [
    "gears_model.config[\"num_perts\"]"
   ]
  },
  {
   "cell_type": "code",
   "execution_count": 27,
   "metadata": {},
   "outputs": [
    {
     "data": {
      "text/plain": [
       "tensor(9852)"
      ]
     },
     "execution_count": 27,
     "metadata": {},
     "output_type": "execute_result"
    }
   ],
   "source": [
    "gears_model.config[\"G_go\"].max()"
   ]
  },
  {
   "cell_type": "code",
   "execution_count": 28,
   "metadata": {},
   "outputs": [
    {
     "data": {
      "text/plain": [
       "tensor(5053)"
      ]
     },
     "execution_count": 28,
     "metadata": {},
     "output_type": "execute_result"
    }
   ],
   "source": [
    "gears_model.config[\"G_coexpress\"].max()"
   ]
  },
  {
   "cell_type": "code",
   "execution_count": 33,
   "metadata": {},
   "outputs": [],
   "source": [
    "with open(\"gears_config.pkl\",'wb') as f:\n",
    "    pkl.dump({\n",
    "        \"config\":gears_model.config,\n",
    "        \"gene_names\":pert_data.gene_names,\n",
    "        \"pert_names\":pert_data.pert_names\n",
    "    },f)\n",
    "    "
   ]
  },
  {
   "cell_type": "code",
   "execution_count": 23,
   "metadata": {},
   "outputs": [
    {
     "name": "stderr",
     "output_type": "stream",
     "text": [
      "Found local copy ./go_essential_all ...\n"
     ]
    },
    {
     "name": "stdout",
     "output_type": "stream",
     "text": [
      "> \u001b[0;32m/data/liz0f/GEARS/gears/gears.py\u001b[0m(238)\u001b[0;36mmodel_initialize\u001b[0;34m()\u001b[0m\n",
      "\u001b[0;32m    237 \u001b[0;31m        \u001b[0;32mimport\u001b[0m \u001b[0mipdb\u001b[0m\u001b[0;34m;\u001b[0m \u001b[0mipdb\u001b[0m\u001b[0;34m.\u001b[0m\u001b[0mset_trace\u001b[0m\u001b[0;34m(\u001b[0m\u001b[0;34m)\u001b[0m\u001b[0;34m\u001b[0m\u001b[0;34m\u001b[0m\u001b[0m\n",
      "\u001b[0m\u001b[0;32m--> 238 \u001b[0;31m        \u001b[0mself\u001b[0m\u001b[0;34m.\u001b[0m\u001b[0mmodel\u001b[0m \u001b[0;34m=\u001b[0m \u001b[0mGEARS_Model\u001b[0m\u001b[0;34m(\u001b[0m\u001b[0mself\u001b[0m\u001b[0;34m.\u001b[0m\u001b[0mconfig\u001b[0m\u001b[0;34m)\u001b[0m\u001b[0;34m.\u001b[0m\u001b[0mto\u001b[0m\u001b[0;34m(\u001b[0m\u001b[0mself\u001b[0m\u001b[0;34m.\u001b[0m\u001b[0mdevice\u001b[0m\u001b[0;34m)\u001b[0m\u001b[0;34m\u001b[0m\u001b[0;34m\u001b[0m\u001b[0m\n",
      "\u001b[0m\u001b[0;32m    239 \u001b[0;31m        \u001b[0mself\u001b[0m\u001b[0;34m.\u001b[0m\u001b[0mbest_model\u001b[0m \u001b[0;34m=\u001b[0m \u001b[0mdeepcopy\u001b[0m\u001b[0;34m(\u001b[0m\u001b[0mself\u001b[0m\u001b[0;34m.\u001b[0m\u001b[0mmodel\u001b[0m\u001b[0;34m)\u001b[0m\u001b[0;34m\u001b[0m\u001b[0;34m\u001b[0m\u001b[0m\n",
      "\u001b[0m\n",
      "ipdb> !self.config.keys()\n",
      "dict_keys(['hidden_size', 'num_go_gnn_layers', 'num_gene_gnn_layers', 'decoder_hidden_size', 'num_similar_genes_go_graph', 'num_similar_genes_co_express_graph', 'coexpress_threshold', 'uncertainty', 'uncertainty_reg', 'direction_lambda', 'G_go', 'G_go_weight', 'G_coexpress', 'G_coexpress_weight', 'device', 'num_genes', 'num_perts', 'no_perturb', 'no_GO'])\n",
      "ipdb> !self.config[\"hidden_size\"]\n",
      "64\n",
      "ipdb> !self.config[\"num_go_gnn_layers\"]\n",
      "1\n",
      "ipdb> !self.config[\"num_gene_gnn_layers\"]\n",
      "1\n",
      "ipdb> !self.config[\"decoder_hidden_size\"]\n",
      "16\n",
      "ipdb> !self.config[\"num_similar_genes_go_graph\"]\n",
      "20\n",
      "ipdb> !self.config[\"num_similar_genes_co_express_graph\"]\n",
      "20\n",
      "ipdb> !self.config[\"coexpress_threshold\"]\n",
      "0.4\n",
      "ipdb> !self.config[\"uncertainty\"]\n",
      "False\n",
      "ipdb> !self.config[\"uncertainty_reg\"]\n",
      "1\n",
      "ipdb> !self.config[\"direction_lambda\"]\n",
      "0.1\n",
      "ipdb> !self.config[\"G_go\"]\n",
      "tensor([[   0,    0,    0,  ..., 9649, 9669, 9693],\n",
      "        [   0,  126,  514,  ..., 9649, 9669, 9693]])\n",
      "ipdb> !self.config[\"G_go_weight\"]\n",
      "tensor([1.0000, 0.1739, 0.1600,  ..., 1.0000, 1.0000, 1.0000])\n",
      "ipdb> !self.config[\"G_coexpress\"]\n",
      "tensor([[   0,    1,    2,  ..., 5050, 5052, 5053],\n",
      "        [   0,    1,    2,  ..., 5050, 5052, 5053]])\n",
      "ipdb> !self.config[\"G_coexpress_weight\"]\n",
      "tensor([1.0000, 0.9997, 1.0000,  ..., 1.0000, 1.0000, 1.0000])\n",
      "ipdb> !self.config[\"device\"]\n",
      "'cuda:0'\n",
      "ipdb> !self.config[\"num_genes\"]\n",
      "5054\n",
      "ipdb> !self.config[\"num_perts\"]\n",
      "9853\n",
      "ipdb> !self.config[\"no_perturb\"]\n",
      "False\n",
      "ipdb> !self.config[\"no_GO\"]\n",
      "True\n",
      "ipdb> q\n"
     ]
    }
   ],
   "source": [
    "gears_model = GEARS(\n",
    "    pert_data, device = 'cuda:0', \n",
    "                        weight_bias_track = False, \n",
    "                        proj_name = 'pertnet', \n",
    "                        exp_name = 'pertnet'\n",
    "                   )\n",
    "gears_model.model_initialize(hidden_size = 64, no_GO=True)\n",
    "print(gears_model.tunable_parameters())"
   ]
  },
  {
   "cell_type": "markdown",
   "metadata": {},
   "source": [
    "You can find available tunable parameters in model_initialize via"
   ]
  },
  {
   "cell_type": "markdown",
   "metadata": {},
   "source": [
    "Train your model:\n",
    "\n",
    "Note: For the sake of demo, we set epoch size to 1. To get full model, set `epochs = 20`."
   ]
  },
  {
   "cell_type": "code",
   "execution_count": 8,
   "metadata": {
    "scrolled": false
   },
   "outputs": [
    {
     "name": "stderr",
     "output_type": "stream",
     "text": [
      "Start Training...\n",
      "Epoch 1 Step 1 Train Loss: 0.9232\n"
     ]
    },
    {
     "name": "stdout",
     "output_type": "stream",
     "text": [
      "GO disabled\n",
      "GO disabled\n",
      "GO disabled\n",
      "GO disabled\n",
      "GO disabled\n",
      "GO disabled\n",
      "GO disabled\n",
      "GO disabled\n",
      "GO disabled\n",
      "GO disabled\n",
      "GO disabled\n",
      "GO disabled\n",
      "GO disabled\n",
      "GO disabled\n",
      "GO disabled\n",
      "GO disabled\n",
      "GO disabled\n",
      "GO disabled\n",
      "GO disabled\n",
      "GO disabled\n",
      "GO disabled\n",
      "GO disabled\n",
      "GO disabled\n",
      "GO disabled\n",
      "GO disabled\n",
      "GO disabled\n",
      "GO disabled\n",
      "GO disabled\n",
      "GO disabled\n",
      "GO disabled\n",
      "GO disabled\n"
     ]
    },
    {
     "ename": "KeyboardInterrupt",
     "evalue": "",
     "output_type": "error",
     "traceback": [
      "\u001b[0;31m---------------------------------------------------------------------------\u001b[0m",
      "\u001b[0;31mKeyboardInterrupt\u001b[0m                         Traceback (most recent call last)",
      "Cell \u001b[0;32mIn[8], line 1\u001b[0m\n\u001b[0;32m----> 1\u001b[0m \u001b[43mgears_model\u001b[49m\u001b[38;5;241;43m.\u001b[39;49m\u001b[43mtrain\u001b[49m\u001b[43m(\u001b[49m\u001b[43mepochs\u001b[49m\u001b[43m \u001b[49m\u001b[38;5;241;43m=\u001b[39;49m\u001b[43m \u001b[49m\u001b[38;5;241;43m20\u001b[39;49m\u001b[43m,\u001b[49m\u001b[43m \u001b[49m\u001b[43mlr\u001b[49m\u001b[43m \u001b[49m\u001b[38;5;241;43m=\u001b[39;49m\u001b[43m \u001b[49m\u001b[38;5;241;43m1e-3\u001b[39;49m\u001b[43m)\u001b[49m\n",
      "File \u001b[0;32m/data/liz0f/GEARS/gears/gears.py:532\u001b[0m, in \u001b[0;36mGEARS.train\u001b[0;34m(self, epochs, lr, weight_decay)\u001b[0m\n\u001b[1;32m    527\u001b[0m     pred \u001b[38;5;241m=\u001b[39m \u001b[38;5;28mself\u001b[39m\u001b[38;5;241m.\u001b[39mmodel(batch)\n\u001b[1;32m    528\u001b[0m     loss \u001b[38;5;241m=\u001b[39m loss_fct(pred, y, batch\u001b[38;5;241m.\u001b[39mpert,\n\u001b[1;32m    529\u001b[0m                   ctrl \u001b[38;5;241m=\u001b[39m \u001b[38;5;28mself\u001b[39m\u001b[38;5;241m.\u001b[39mctrl_expression, \n\u001b[1;32m    530\u001b[0m                   dict_filter \u001b[38;5;241m=\u001b[39m \u001b[38;5;28mself\u001b[39m\u001b[38;5;241m.\u001b[39mdict_filter,\n\u001b[1;32m    531\u001b[0m                   direction_lambda \u001b[38;5;241m=\u001b[39m \u001b[38;5;28mself\u001b[39m\u001b[38;5;241m.\u001b[39mconfig[\u001b[38;5;124m'\u001b[39m\u001b[38;5;124mdirection_lambda\u001b[39m\u001b[38;5;124m'\u001b[39m])\n\u001b[0;32m--> 532\u001b[0m \u001b[43mloss\u001b[49m\u001b[38;5;241;43m.\u001b[39;49m\u001b[43mbackward\u001b[49m\u001b[43m(\u001b[49m\u001b[43m)\u001b[49m\n\u001b[1;32m    533\u001b[0m nn\u001b[38;5;241m.\u001b[39mutils\u001b[38;5;241m.\u001b[39mclip_grad_value_(\u001b[38;5;28mself\u001b[39m\u001b[38;5;241m.\u001b[39mmodel\u001b[38;5;241m.\u001b[39mparameters(), clip_value\u001b[38;5;241m=\u001b[39m\u001b[38;5;241m1.0\u001b[39m)\n\u001b[1;32m    534\u001b[0m optimizer\u001b[38;5;241m.\u001b[39mstep()\n",
      "File \u001b[0;32m~/anaconda3/envs/GEARS/lib/python3.10/site-packages/torch/_tensor.py:488\u001b[0m, in \u001b[0;36mTensor.backward\u001b[0;34m(self, gradient, retain_graph, create_graph, inputs)\u001b[0m\n\u001b[1;32m    478\u001b[0m \u001b[38;5;28;01mif\u001b[39;00m has_torch_function_unary(\u001b[38;5;28mself\u001b[39m):\n\u001b[1;32m    479\u001b[0m     \u001b[38;5;28;01mreturn\u001b[39;00m handle_torch_function(\n\u001b[1;32m    480\u001b[0m         Tensor\u001b[38;5;241m.\u001b[39mbackward,\n\u001b[1;32m    481\u001b[0m         (\u001b[38;5;28mself\u001b[39m,),\n\u001b[0;32m   (...)\u001b[0m\n\u001b[1;32m    486\u001b[0m         inputs\u001b[38;5;241m=\u001b[39minputs,\n\u001b[1;32m    487\u001b[0m     )\n\u001b[0;32m--> 488\u001b[0m \u001b[43mtorch\u001b[49m\u001b[38;5;241;43m.\u001b[39;49m\u001b[43mautograd\u001b[49m\u001b[38;5;241;43m.\u001b[39;49m\u001b[43mbackward\u001b[49m\u001b[43m(\u001b[49m\n\u001b[1;32m    489\u001b[0m \u001b[43m    \u001b[49m\u001b[38;5;28;43mself\u001b[39;49m\u001b[43m,\u001b[49m\u001b[43m \u001b[49m\u001b[43mgradient\u001b[49m\u001b[43m,\u001b[49m\u001b[43m \u001b[49m\u001b[43mretain_graph\u001b[49m\u001b[43m,\u001b[49m\u001b[43m \u001b[49m\u001b[43mcreate_graph\u001b[49m\u001b[43m,\u001b[49m\u001b[43m \u001b[49m\u001b[43minputs\u001b[49m\u001b[38;5;241;43m=\u001b[39;49m\u001b[43minputs\u001b[49m\n\u001b[1;32m    490\u001b[0m \u001b[43m\u001b[49m\u001b[43m)\u001b[49m\n",
      "File \u001b[0;32m~/anaconda3/envs/GEARS/lib/python3.10/site-packages/torch/autograd/__init__.py:197\u001b[0m, in \u001b[0;36mbackward\u001b[0;34m(tensors, grad_tensors, retain_graph, create_graph, grad_variables, inputs)\u001b[0m\n\u001b[1;32m    192\u001b[0m     retain_graph \u001b[38;5;241m=\u001b[39m create_graph\n\u001b[1;32m    194\u001b[0m \u001b[38;5;66;03m# The reason we repeat same the comment below is that\u001b[39;00m\n\u001b[1;32m    195\u001b[0m \u001b[38;5;66;03m# some Python versions print out the first line of a multi-line function\u001b[39;00m\n\u001b[1;32m    196\u001b[0m \u001b[38;5;66;03m# calls in the traceback and some print out the last line\u001b[39;00m\n\u001b[0;32m--> 197\u001b[0m \u001b[43mVariable\u001b[49m\u001b[38;5;241;43m.\u001b[39;49m\u001b[43m_execution_engine\u001b[49m\u001b[38;5;241;43m.\u001b[39;49m\u001b[43mrun_backward\u001b[49m\u001b[43m(\u001b[49m\u001b[43m  \u001b[49m\u001b[38;5;66;43;03m# Calls into the C++ engine to run the backward pass\u001b[39;49;00m\n\u001b[1;32m    198\u001b[0m \u001b[43m    \u001b[49m\u001b[43mtensors\u001b[49m\u001b[43m,\u001b[49m\u001b[43m \u001b[49m\u001b[43mgrad_tensors_\u001b[49m\u001b[43m,\u001b[49m\u001b[43m \u001b[49m\u001b[43mretain_graph\u001b[49m\u001b[43m,\u001b[49m\u001b[43m \u001b[49m\u001b[43mcreate_graph\u001b[49m\u001b[43m,\u001b[49m\u001b[43m \u001b[49m\u001b[43minputs\u001b[49m\u001b[43m,\u001b[49m\n\u001b[1;32m    199\u001b[0m \u001b[43m    \u001b[49m\u001b[43mallow_unreachable\u001b[49m\u001b[38;5;241;43m=\u001b[39;49m\u001b[38;5;28;43;01mTrue\u001b[39;49;00m\u001b[43m,\u001b[49m\u001b[43m \u001b[49m\u001b[43maccumulate_grad\u001b[49m\u001b[38;5;241;43m=\u001b[39;49m\u001b[38;5;28;43;01mTrue\u001b[39;49;00m\u001b[43m)\u001b[49m\n",
      "\u001b[0;31mKeyboardInterrupt\u001b[0m: "
     ]
    }
   ],
   "source": [
    "gears_model.train(epochs = 20, lr = 1e-3)"
   ]
  },
  {
   "cell_type": "markdown",
   "metadata": {},
   "source": [
    "Save and load pretrained models:"
   ]
  },
  {
   "cell_type": "code",
   "execution_count": 27,
   "metadata": {},
   "outputs": [],
   "source": [
    "print(\"n_combo =\",n_combo)\n",
    "gears_model.save_model('best_model-%d'%(n_combo))\n",
    "gears_model.load_pretrained('best_model-%d'%(n_combo))"
   ]
  },
  {
   "cell_type": "code",
   "execution_count": 29,
   "metadata": {},
   "outputs": [
    {
     "name": "stdout",
     "output_type": "stream",
     "text": [
      "{'mse': 0.011455394, 'mse_de': 0.31053308, 'pearson': 0.9896291897540179, 'pearson_de': 0.8852968530890082}\n"
     ]
    }
   ],
   "source": [
    "from gears.inference import evaluate,compute_metrics\n",
    "test_res = evaluate(gears_model.dataloader['test_loader'], gears_model.best_model,\n",
    "                    gears_model.config['uncertainty'], gears_model.device)\n",
    "test_metrics, test_pert_res = compute_metrics(test_res)  \n",
    "print(test_metrics)"
   ]
  },
  {
   "cell_type": "markdown",
   "metadata": {},
   "source": [
    "Make prediction for new perturbation:"
   ]
  },
  {
   "cell_type": "markdown",
   "metadata": {},
   "source": [
    "Gene list can be found here:"
   ]
  }
 ],
 "metadata": {
  "kernelspec": {
   "display_name": "Python [conda env:GEARS]",
   "language": "python",
   "name": "conda-env-GEARS-py"
  },
  "language_info": {
   "codemirror_mode": {
    "name": "ipython",
    "version": 3
   },
   "file_extension": ".py",
   "mimetype": "text/x-python",
   "name": "python",
   "nbconvert_exporter": "python",
   "pygments_lexer": "ipython3",
   "version": "3.10.12"
  },
  "toc": {
   "base_numbering": 1,
   "nav_menu": {},
   "number_sections": true,
   "sideBar": true,
   "skip_h1_title": false,
   "title_cell": "Table of Contents",
   "title_sidebar": "Contents",
   "toc_cell": false,
   "toc_position": {},
   "toc_section_display": true,
   "toc_window_display": false
  }
 },
 "nbformat": 4,
 "nbformat_minor": 5
}
